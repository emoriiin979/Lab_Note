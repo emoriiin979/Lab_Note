{
  "nbformat": 4,
  "nbformat_minor": 0,
  "metadata": {
    "colab": {
      "name": "pubmed.ipynb",
      "provenance": [],
      "collapsed_sections": [
        "8bP6D1ixuhrT",
        "2dG3Ns96voyP",
        "TbU7VE32MqVj"
      ]
    },
    "kernelspec": {
      "name": "python3",
      "display_name": "Python 3"
    }
  },
  "cells": [
    {
      "cell_type": "markdown",
      "metadata": {
        "id": "z0ubYHBnoPhY",
        "colab_type": "text"
      },
      "source": [
        "#PubMedは論文検索サービスとして有用かどうか調べる"
      ]
    },
    {
      "cell_type": "markdown",
      "metadata": {
        "id": "OKxZLDkOo_5p",
        "colab_type": "text"
      },
      "source": [
        "##目的\n",
        "Google検索では論文以外のページもヒットしてしまうため、論文検索には適していない。  \n",
        "論文検索のためのサービスはいくつか存在するが、医学分野の論文検索にはPubMedがよく用いられるらしい。  \n",
        "今回は、PubMedが論文検索において本当に有用であるのかを調査する。"
      ]
    },
    {
      "cell_type": "markdown",
      "metadata": {
        "id": "AxUo5Jq0qRvM",
        "colab_type": "text"
      },
      "source": [
        "##方法\n",
        "論文検索で想定される例を3例用意し、これらが達成できるかどうかで有用性を評価する。\n",
        "\n",
        "1. 老化分野の基礎知識を得るために、レビュー論文を検索する\n",
        "2. 川島隆太教授の研究を調べるために、彼の全ての論文を抽出する\n",
        "3. 上記のうち、被引用数が上位10件の論文だけ選択する\n",
        "\n",
        "これらの検索方法及び結果は、全てJupyter Notebookに記載する。  \n",
        "したがって、上記の全ての検索はブラウザ上ではなくBioPythonで実行される。"
      ]
    },
    {
      "cell_type": "markdown",
      "metadata": {
        "id": "qO3ClsBxv2GI",
        "colab_type": "text"
      },
      "source": [
        "##実行環境\n",
        "* Google Chrome（バージョン: 80.0.3987.132）\n",
        "* Google Colaboratory（ランタイム等は全てデフォルトのまま）"
      ]
    },
    {
      "cell_type": "markdown",
      "metadata": {
        "id": "iCmvic0Utmx4",
        "colab_type": "text"
      },
      "source": [
        "##実行手順"
      ]
    },
    {
      "cell_type": "markdown",
      "metadata": {
        "id": "8bP6D1ixuhrT",
        "colab_type": "text"
      },
      "source": [
        "###0. BioPythonの準備"
      ]
    },
    {
      "cell_type": "markdown",
      "metadata": {
        "id": "ZeUbjvlLtr-X",
        "colab_type": "text"
      },
      "source": [
        "Google Colaboratory（以下、Colab）にはBioPythonが導入されていないので、まずはパッケージをインストールする。"
      ]
    },
    {
      "cell_type": "code",
      "metadata": {
        "id": "xCh0hZ6B-yT8",
        "colab_type": "code",
        "outputId": "de8fc556-d6d2-4c60-89b9-51a0c6d540e7",
        "colab": {
          "base_uri": "https://localhost:8080/",
          "height": 119
        }
      },
      "source": [
        "!pip install biopython"
      ],
      "execution_count": 0,
      "outputs": [
        {
          "output_type": "stream",
          "text": [
            "Collecting biopython\n",
            "\u001b[?25l  Downloading https://files.pythonhosted.org/packages/83/3d/e0c8a993dbea1136be90c31345aefc5babdd5046cd52f81c18fc3fdad865/biopython-1.76-cp36-cp36m-manylinux1_x86_64.whl (2.3MB)\n",
            "\u001b[K     |████████████████████████████████| 2.3MB 2.8MB/s \n",
            "\u001b[?25hRequirement already satisfied: numpy in /usr/local/lib/python3.6/dist-packages (from biopython) (1.18.2)\n",
            "Installing collected packages: biopython\n",
            "Successfully installed biopython-1.76\n"
          ],
          "name": "stdout"
        }
      ]
    },
    {
      "cell_type": "markdown",
      "metadata": {
        "id": "Fmo0QZoQuGdS",
        "colab_type": "text"
      },
      "source": [
        "BioPythonをインポートする。  \n",
        "スクレイピングを連続で行うと相手サーバーに負荷を与えてしまうため、休止時間を設けるためにsleepもインポートしておく。"
      ]
    },
    {
      "cell_type": "code",
      "metadata": {
        "id": "PPcYplPED4F0",
        "colab_type": "code",
        "colab": {}
      },
      "source": [
        "from Bio import Entrez\n",
        "from time import sleep"
      ],
      "execution_count": 0,
      "outputs": []
    },
    {
      "cell_type": "markdown",
      "metadata": {
        "id": "sTcecD1ruzYO",
        "colab_type": "text"
      },
      "source": [
        "メールアドレスを入力しないとBioPythonが実行できないので、入力する。  \n",
        "このメールアドレスはNCBI APIのエラー通知先として使用されるらしい。"
      ]
    },
    {
      "cell_type": "code",
      "metadata": {
        "id": "8H-d-CReD7xe",
        "colab_type": "code",
        "colab": {}
      },
      "source": [
        "Entrez.email = \"emoriiin979@gmail.com\""
      ],
      "execution_count": 0,
      "outputs": []
    },
    {
      "cell_type": "markdown",
      "metadata": {
        "id": "2dG3Ns96voyP",
        "colab_type": "text"
      },
      "source": [
        "###1. 老化分野の基礎知識を得るために、レビュー論文を検索する"
      ]
    },
    {
      "cell_type": "markdown",
      "metadata": {
        "id": "DX_iwmKsvxPQ",
        "colab_type": "text"
      },
      "source": [
        "老化分野を調べるので、キーワードは「aging」とした。  \n",
        "レビュー論文のみを閲覧したいので、記事タイプは「Systematic Review」とした。  \n",
        "その他、フルテキストであること、出版日が2018年4月以降であること、ヒトを対象としていることを条件に加えた。"
      ]
    },
    {
      "cell_type": "code",
      "metadata": {
        "id": "GY044Bq5X9Mh",
        "colab_type": "code",
        "colab": {}
      },
      "source": [
        "term = \"aging\"\n",
        "term += \" AND Systematic Review[Publication Type]\"\n",
        "term += \" AND Free full text[Filter]\"\n",
        "term += ' AND (\"2018/04\"[Date - Publication]: \"3000/03\"[Date - Publication])'\n",
        "term += \" AND Humans[Filter]\""
      ],
      "execution_count": 0,
      "outputs": []
    },
    {
      "cell_type": "markdown",
      "metadata": {
        "id": "nb5rfMMRz-FO",
        "colab_type": "text"
      },
      "source": [
        "BioPythonでのPubMed検索は今後も実行するので、実行しやすいように関数を作成しておく。  \n",
        "上で設定した検索ワードを入力し、PubMed検索結果のPMIDを出力させる。"
      ]
    },
    {
      "cell_type": "code",
      "metadata": {
        "id": "rTsni-ltySgk",
        "colab_type": "code",
        "colab": {}
      },
      "source": [
        "def get_ID(term, retmax=20):\n",
        "    handle = Entrez.esearch(db=\"pubmed\", term=term, retmax=retmax)\n",
        "    record = Entrez.read(handle)\n",
        "    return record[\"IdList\"]"
      ],
      "execution_count": 0,
      "outputs": []
    },
    {
      "cell_type": "markdown",
      "metadata": {
        "id": "IdAsYtQi0k5M",
        "colab_type": "text"
      },
      "source": [
        "PubMed検索を実行する。  \n",
        "本来なら204件の論文が出力されるが、それほどの数は不要なので、上位10件だけ出力するようにした。（retmax=10）"
      ]
    },
    {
      "cell_type": "code",
      "metadata": {
        "id": "qxFhaKYYzSG0",
        "colab_type": "code",
        "colab": {}
      },
      "source": [
        "IdList = get_ID(term, retmax=10)"
      ],
      "execution_count": 0,
      "outputs": []
    },
    {
      "cell_type": "markdown",
      "metadata": {
        "id": "c3rNyIZ0J5bn",
        "colab_type": "text"
      },
      "source": [
        "本当はBest Matchも実装したかったが、BioPythonでのやり方が分からないので断念した。  \n",
        "レビュー論文を調べるだけなら、この時点でも達成可能である。"
      ]
    },
    {
      "cell_type": "markdown",
      "metadata": {
        "id": "EDbPecAGKG-2",
        "colab_type": "text"
      },
      "source": [
        "結果を見やすくするために、HTMLファイルを作成する。  \n",
        "この機能はこの後も何度か利用するので、関数として定義しておく。"
      ]
    },
    {
      "cell_type": "code",
      "metadata": {
        "id": "pLzlpMFW0qzd",
        "colab_type": "code",
        "colab": {}
      },
      "source": [
        "def make_HTML(IdList, outfile=\"out.html\"):\n",
        "    text = [\n",
        "        \"<!DOCTYPE html>\",\n",
        "        \"<head>\",\n",
        "        '  <meta charset=\"UTF-8\">',\n",
        "        \"  <title>Paper List</title>\",\n",
        "        \"</head>\",\n",
        "        \"<body>\",\n",
        "        \"  <h1>Paper List</h1>\"\n",
        "    ]\n",
        "    for pmid in IdList:\n",
        "        url = \"https://www.ncbi.nlm.nih.gov/pubmed/\" + pmid + \"/\"\n",
        "        line = '  <p><a href=\"' + url + '\" target=\"_blank\">' + url + \"</a></p>\"\n",
        "        text.append(line)\n",
        "    text.append(\"</body>\")\n",
        "    with open(outfile, \"w\") as o:\n",
        "        for t in text:\n",
        "            print(t, file=o)"
      ],
      "execution_count": 0,
      "outputs": []
    },
    {
      "cell_type": "markdown",
      "metadata": {
        "id": "3FdPbX96MUA-",
        "colab_type": "text"
      },
      "source": [
        "結果をHTMLファイルに出力した。  \n",
        "ブラウザでファイルを開くと、検索結果の10報の論文のアドレスが表示される。"
      ]
    },
    {
      "cell_type": "code",
      "metadata": {
        "id": "_flbfcsaKXZn",
        "colab_type": "code",
        "outputId": "581b416a-f47e-4ed0-a14a-e3418a75afd2",
        "colab": {
          "base_uri": "https://localhost:8080/",
          "height": 34
        }
      },
      "source": [
        "make_HTML(IdList, outfile=\"res1.html\")\n",
        "print(IdList)"
      ],
      "execution_count": 0,
      "outputs": [
        {
          "output_type": "stream",
          "text": [
            "['32078523', '31860946', '31814714', '31752149', '31739647', '31722884', '31695349', '31690308', '31676005', '31635264']\n"
          ],
          "name": "stdout"
        }
      ]
    },
    {
      "cell_type": "markdown",
      "metadata": {
        "id": "TbU7VE32MqVj",
        "colab_type": "text"
      },
      "source": [
        "###2. 川島隆太教授の研究を調べるために、彼の全ての論文を抽出する"
      ]
    },
    {
      "cell_type": "markdown",
      "metadata": {
        "id": "X8-WRUiwM9q3",
        "colab_type": "text"
      },
      "source": [
        "川島隆太教授は東北大学で加齢医学の研究を行っている人物であり、「脳トレ」で一般によく知られている。  \n",
        "今回はPubMedのケーススタディとして、有名人でかつ老化の研究を行っている人として、彼の研究内容を調査することにした。"
      ]
    },
    {
      "cell_type": "code",
      "metadata": {
        "id": "ukCsCZqxOmHY",
        "colab_type": "code",
        "colab": {}
      },
      "source": [
        "term = \"Kawashima Ryuta[Author]\"\n",
        "term += \" AND Tohoku[Affiliation]\""
      ],
      "execution_count": 0,
      "outputs": []
    },
    {
      "cell_type": "markdown",
      "metadata": {
        "id": "WvJoYOSQwHTI",
        "colab_type": "text"
      },
      "source": [
        "著者名（Author）と所属機関（Affiliation）のタグを用いる。  \n",
        "ブラウザ版のPubMedでは、件数が「298件」となった。（2020/03/23に検索）  \n",
        "全ての論文を出力したいので、retmaxは300に設定した。"
      ]
    },
    {
      "cell_type": "code",
      "metadata": {
        "id": "uUO5gL-6N6b2",
        "colab_type": "code",
        "colab": {}
      },
      "source": [
        "handle = Entrez.esearch(db=\"pubmed\", term=term, retmax=300)\n",
        "record = Entrez.read(handle)\n",
        "IdList = record[\"IdList\"]"
      ],
      "execution_count": 0,
      "outputs": []
    },
    {
      "cell_type": "markdown",
      "metadata": {
        "id": "pdKPpwfyw6pt",
        "colab_type": "text"
      },
      "source": [
        "IdListの件数を確認する。"
      ]
    },
    {
      "cell_type": "code",
      "metadata": {
        "id": "8U9WmZ6LOMcs",
        "colab_type": "code",
        "outputId": "9a624c2c-7d7f-4db4-97cb-cc76e3822a8e",
        "colab": {
          "base_uri": "https://localhost:8080/",
          "height": 51
        }
      },
      "source": [
        "print(IdList[0:4])\n",
        "print(len(IdList))"
      ],
      "execution_count": 0,
      "outputs": [
        {
          "output_type": "stream",
          "text": [
            "['32120794', '32021932', '32010024', '31980740']\n",
            "298\n"
          ],
          "name": "stdout"
        }
      ]
    },
    {
      "cell_type": "markdown",
      "metadata": {
        "id": "HdxSENdTxMA3",
        "colab_type": "text"
      },
      "source": [
        "上位4件のPMIDと、出力件数ともに、ブラウザ版PubMedのものと相違なかった。"
      ]
    },
    {
      "cell_type": "markdown",
      "metadata": {
        "id": "w6G_FFtqxXR3",
        "colab_type": "text"
      },
      "source": [
        "###3. 被引用数が上位10件の論文だけ選択する"
      ]
    },
    {
      "cell_type": "markdown",
      "metadata": {
        "id": "h80ogdnwxoZT",
        "colab_type": "text"
      },
      "source": [
        "2.で抽出された論文数は、298件にも及んだ。  \n",
        "これほどの論文数を全て調査するのは大変なので、重要そうな論文だけを調べたい。  \n",
        "今回は、被引用数が大きい論文だけを選択することにした。"
      ]
    },
    {
      "cell_type": "markdown",
      "metadata": {
        "id": "aJbm1bE6x7lY",
        "colab_type": "text"
      },
      "source": [
        "被引用数はPubMedで調べる方法が分からなかったので、外部サービスを用いて調べた。  \n",
        "外部サービスの出力結果はスクレイピングで取得する。  \n",
        "そのためのrequestsモジュールをインポートする。"
      ]
    },
    {
      "cell_type": "code",
      "metadata": {
        "id": "E-7DAiNqOCpR",
        "colab_type": "code",
        "colab": {}
      },
      "source": [
        "import requests"
      ],
      "execution_count": 0,
      "outputs": []
    },
    {
      "cell_type": "markdown",
      "metadata": {
        "id": "AkgFWudByWnl",
        "colab_type": "text"
      },
      "source": [
        "被引用数はSemantic Scholarが提供している。  \n",
        "本サービスでは被引用数を出力するAPIが提供されているので、それを活用する。  \n",
        "APIの出力結果をrequestsで取得し、その中から被引用文献（citations）のリストを抽出し、数をカウントする。  \n",
        "この処理は298件全ての論文に対して行われるため、関数として定義しておく。"
      ]
    },
    {
      "cell_type": "code",
      "metadata": {
        "id": "xDchBVqgNtWr",
        "colab_type": "code",
        "colab": {}
      },
      "source": [
        "def get_n_cites(pmid):\n",
        "    url = \"https://api.semanticscholar.org/v1/paper/PMID:\" + pmid\n",
        "    result = requests.get(url).json()\n",
        "    n_cites = len(result[\"citations\"])\n",
        "    return n_cites"
      ],
      "execution_count": 0,
      "outputs": []
    },
    {
      "cell_type": "markdown",
      "metadata": {
        "id": "rjtZPc_ozcHU",
        "colab_type": "text"
      },
      "source": [
        "論文のPMIDと被引用数を結び付けて記録するため、そのためのPandasデータフレームを定義する。  \n",
        "列は「PMID」と「被引用数（n_cites）」であり、各行にそれぞれの論文のPMIDと被引用数が格納される。"
      ]
    },
    {
      "cell_type": "code",
      "metadata": {
        "id": "fKBciS-nT6KE",
        "colab_type": "code",
        "colab": {}
      },
      "source": [
        "import pandas as pd"
      ],
      "execution_count": 0,
      "outputs": []
    },
    {
      "cell_type": "code",
      "metadata": {
        "id": "q13dBt5QT8Mj",
        "colab_type": "code",
        "colab": {}
      },
      "source": [
        "df = pd.DataFrame(columns=[\"PMID\", \"n_cites\"])"
      ],
      "execution_count": 0,
      "outputs": []
    },
    {
      "cell_type": "markdown",
      "metadata": {
        "id": "bpFXi7C7z-2d",
        "colab_type": "text"
      },
      "source": [
        "IdListに格納されている全てのPMIDに対して、関数get_n_citesを適用する。  \n",
        "出力結果はデータフレームdfに追記されていく。  \n",
        "連続スクレイピングによる負荷を軽減するため、sleep関数も使用する。"
      ]
    },
    {
      "cell_type": "code",
      "metadata": {
        "id": "wJFz092qTgOC",
        "colab_type": "code",
        "colab": {}
      },
      "source": [
        "for id in IdList:\n",
        "    n_cites = get_n_cites(id)\n",
        "    df = df.append(pd.Series([id, n_cites], index=df.columns), ignore_index=True)\n",
        "    sleep(1)"
      ],
      "execution_count": 0,
      "outputs": []
    },
    {
      "cell_type": "markdown",
      "metadata": {
        "id": "BtVUXQS60cAW",
        "colab_type": "text"
      },
      "source": [
        "被引用数が上位10件の論文を選択する。"
      ]
    },
    {
      "cell_type": "code",
      "metadata": {
        "id": "7V3bc-tiVABJ",
        "colab_type": "code",
        "outputId": "744a4812-95a5-49ef-edd3-6f692ea012ee",
        "colab": {
          "base_uri": "https://localhost:8080/",
          "height": 359
        }
      },
      "source": [
        "df_sorted = df.sort_values(\"n_cites\", ascending=False)[0:10]\n",
        "df_sorted"
      ],
      "execution_count": 0,
      "outputs": [
        {
          "output_type": "execute_result",
          "data": {
            "text/html": [
              "<div>\n",
              "<style scoped>\n",
              "    .dataframe tbody tr th:only-of-type {\n",
              "        vertical-align: middle;\n",
              "    }\n",
              "\n",
              "    .dataframe tbody tr th {\n",
              "        vertical-align: top;\n",
              "    }\n",
              "\n",
              "    .dataframe thead th {\n",
              "        text-align: right;\n",
              "    }\n",
              "</style>\n",
              "<table border=\"1\" class=\"dataframe\">\n",
              "  <thead>\n",
              "    <tr style=\"text-align: right;\">\n",
              "      <th></th>\n",
              "      <th>PMID</th>\n",
              "      <th>n_cites</th>\n",
              "    </tr>\n",
              "  </thead>\n",
              "  <tbody>\n",
              "    <tr>\n",
              "      <th>239</th>\n",
              "      <td>20203189</td>\n",
              "      <td>304</td>\n",
              "    </tr>\n",
              "    <tr>\n",
              "      <th>258</th>\n",
              "      <td>18223623</td>\n",
              "      <td>186</td>\n",
              "    </tr>\n",
              "    <tr>\n",
              "      <th>207</th>\n",
              "      <td>22253758</td>\n",
              "      <td>153</td>\n",
              "    </tr>\n",
              "    <tr>\n",
              "      <th>286</th>\n",
              "      <td>14980557</td>\n",
              "      <td>139</td>\n",
              "    </tr>\n",
              "    <tr>\n",
              "      <th>230</th>\n",
              "      <td>21111830</td>\n",
              "      <td>125</td>\n",
              "    </tr>\n",
              "    <tr>\n",
              "      <th>238</th>\n",
              "      <td>20226253</td>\n",
              "      <td>116</td>\n",
              "    </tr>\n",
              "    <tr>\n",
              "      <th>279</th>\n",
              "      <td>15588605</td>\n",
              "      <td>113</td>\n",
              "    </tr>\n",
              "    <tr>\n",
              "      <th>240</th>\n",
              "      <td>20171286</td>\n",
              "      <td>104</td>\n",
              "    </tr>\n",
              "    <tr>\n",
              "      <th>218</th>\n",
              "      <td>21886781</td>\n",
              "      <td>98</td>\n",
              "    </tr>\n",
              "    <tr>\n",
              "      <th>287</th>\n",
              "      <td>14741309</td>\n",
              "      <td>98</td>\n",
              "    </tr>\n",
              "  </tbody>\n",
              "</table>\n",
              "</div>"
            ],
            "text/plain": [
              "         PMID n_cites\n",
              "239  20203189     304\n",
              "258  18223623     186\n",
              "207  22253758     153\n",
              "286  14980557     139\n",
              "230  21111830     125\n",
              "238  20226253     116\n",
              "279  15588605     113\n",
              "240  20171286     104\n",
              "218  21886781      98\n",
              "287  14741309      98"
            ]
          },
          "metadata": {
            "tags": []
          },
          "execution_count": 16
        }
      ]
    },
    {
      "cell_type": "markdown",
      "metadata": {
        "id": "02pLVu0q01a2",
        "colab_type": "text"
      },
      "source": [
        "出力結果をHTMLファイルに入力する。"
      ]
    },
    {
      "cell_type": "code",
      "metadata": {
        "id": "oQm1uoqUZHA3",
        "colab_type": "code",
        "colab": {}
      },
      "source": [
        "make_HTML(list(df_sorted[\"PMID\"]), outfile=\"res3.html\")"
      ],
      "execution_count": 0,
      "outputs": []
    },
    {
      "cell_type": "markdown",
      "metadata": {
        "id": "oB8EzwM04_z4",
        "colab_type": "text"
      },
      "source": [
        "##考察"
      ]
    },
    {
      "cell_type": "markdown",
      "metadata": {
        "id": "LGTT2f805Hri",
        "colab_type": "text"
      },
      "source": [
        "検索の結果出力された論文のうち上位10件の中身を確認し、目的の論文が得られているかを検討する。"
      ]
    },
    {
      "cell_type": "markdown",
      "metadata": {
        "id": "Z8wf_QAl5Zk_",
        "colab_type": "text"
      },
      "source": [
        "###1. 老化分野の基礎知識を得るために、レビュー論文を検索する"
      ]
    },
    {
      "cell_type": "markdown",
      "metadata": {
        "id": "nTX85LFI5iPb",
        "colab_type": "text"
      },
      "source": [
        "####論文の概要\n",
        "PMID: 32078523  \n",
        "椎間板ヘルニアによる慢性腰痛の症例レビューに基づいた、新規の患者に対する作業療法介入の成功例\n",
        "\n",
        "PMID: 31860946  \n",
        "前立腺がんの疼痛に対する薬物療法の有効性・安全性のメタ分析\n",
        "\n",
        "PMID: 31814714  \n",
        "体系的レビューの文献調査による、根治的前立腺摘除術後の尿失禁に対する骨盤底筋トレーニングの有効性評価\n",
        "\n",
        "PMID: 31752149  \n",
        "認知症の有無が口腔衛生に及ぼす影響を文献調査\n",
        "\n",
        "PMID: 31722884  \n",
        "大腸内視鏡検査の検査間隔を決定するための、内視鏡検査と大腸がん有病率の文献調査\n",
        "\n",
        "PMID: 31695349  \n",
        "アルツハイマー型認知症患者に対する虐待行為の調査と防止策の検討\n",
        "\n",
        "PMID: 31690308  \n",
        "多発性疾患の発生を感知し適切なサービスへ繋げることができているかを調査\n",
        "\n",
        "PMID: 31676005  \n",
        "認知症の介護者に対するe-ラーニング教育の活用例の調査\n",
        "\n",
        "PMID: 31635264  \n",
        "腸内細菌叢から産生される短鎖脂肪酸と肥満の関係性を調査\n",
        "\n",
        "PMID: 31627427  \n",
        "加齢に伴うサルコペニア（筋肉喪失）に対するロイシン補充の有効性調査"
      ]
    },
    {
      "cell_type": "markdown",
      "metadata": {
        "id": "9Mo5chtoB_05",
        "colab_type": "text"
      },
      "source": [
        "論文の形式を「Systematic Review」に指定したため、ほとんどの論文で文献調査が行われ、それに基づいた結論が述べられていた。Systematic Reviewではランダム盲検テストなど信頼性の高いテスト方法が用いられている文献のみが資料として利用されるため、文献調査の結果は信頼性が高いといえる。医学分野に関しては、ReviewよりもSystemaric Reviewの方が質の高い情報が得られるかもしれない。  \n",
        "一方で、キーワードを「aging」としか入力しなかったせいか、扱われる内容が多岐に渡ってしまった。そもそも老化そのものに関する論文は一つも存在せず、ほとんどが高齢者の疾患に関する内容であった。本当に知りたい情報を出力させるには、適切なキーワードを選択しなければならない。老化の教科書などを参考にして、現時点で流行しているキーワードを調べておく必要があるかもしれない。"
      ]
    },
    {
      "cell_type": "markdown",
      "metadata": {
        "id": "Lwwqq4FOHElF",
        "colab_type": "text"
      },
      "source": [
        "###2. 川島隆太教授の研究を調べるために、彼の全ての論文を抽出する"
      ]
    },
    {
      "cell_type": "markdown",
      "metadata": {
        "id": "da4Xr-6NHQl4",
        "colab_type": "text"
      },
      "source": [
        "####論文の著者名（「Kawashima」のみ）と所属機関名\n",
        "PMID: 32120794  \n",
        "Ryuta Kawashima, Tohoku University\n",
        "\n",
        "PMID: 32021932  \n",
        "Ryuta Kawashima, Tohoku University\n",
        "\n",
        "PMID: 32010024  \n",
        "Ryuta Kawashima, Tohoku University\n",
        "\n",
        "PMID: 31980740  \n",
        "Ryuta Kawashima, Tohoku University\n",
        "\n",
        "PMID: 31978544  \n",
        "Ryuta Kawashima, Tohoku University\n",
        "\n",
        "PMID: 31936294  \n",
        "Ryuta Kawashima, Tohoku University\n",
        "\n",
        "PMID: 31932477  \n",
        "Ryuta Kawashima, Tohoku University\n",
        "\n",
        "PMID: 31902739  \n",
        "Ryuta Kawashima, Tohoku University\n",
        "\n",
        "PMID: 31888419  \n",
        "Ryuta Kawashima, Tohoku University\n",
        "\n",
        "PMID: 31866843  \n",
        "Ryuta Kawashima, Tohoku University"
      ]
    },
    {
      "cell_type": "markdown",
      "metadata": {
        "id": "UumjTXJfEfOs",
        "colab_type": "text"
      },
      "source": [
        "検索結果の上位10件では、全ての論文で「Ryuta Kawashima」が著者として存在し、いずれも所属機関名が「Tohoku University」であった。東北大学に川島隆太教授と同姓同名の人間がいない限り、この著者は全て川島教授本人であると考えられる。  \n",
        "298件すべてを調べたわけではないので確かではないが、検索結果のほぼ全てが川島教授が関与していると考えてよいと結論付けた。現在知る限りでは著者の指定にはAuthorタグを用いるのが最も簡単であるため、今後も研究室の論文探しにはAuthorタグで検索したい。"
      ]
    },
    {
      "cell_type": "markdown",
      "metadata": {
        "id": "R-v15ULmKuS5",
        "colab_type": "text"
      },
      "source": [
        "###3. 被引用数が上位10件の論文だけ選択する"
      ]
    },
    {
      "cell_type": "markdown",
      "metadata": {
        "id": "l1FRmkR4sQLY",
        "colab_type": "text"
      },
      "source": [
        "PMID: 20203189  \n",
        "ワーキングメモリに影響を与える「白質の統合性」がトレーニングによって変化するかどうかを調査\n",
        "\n",
        "PMID: 18223623  \n",
        "BMI（肥満度）と脳灰白質量の相関関係の調査\n",
        "\n",
        "PMID: 22253758  \n",
        "脳トレゲームが高齢者の認知機能に与える影響を評価\n",
        "\n",
        "PMID: 14980557  \n",
        "脳fMRIの血中酸素レベル依存型応答（BOLD応答）から血行力学パラメータを求めるためのモデル式の改良\n",
        "\n",
        "PMID: 21111830  \n",
        "ワーキングメモリの非活性化による拡散的思考と創造性向上の関係性をfMRIで調査\n",
        "\n",
        "PMID: 20226253  \n",
        "脳内の局所的な灰白質量が創造性テストの結果に与える影響をVBMで調査\n",
        "\n",
        "PMID: 15588605  \n",
        "自分の顔を認識するために活性化される脳の部位をfMRIで調査\n",
        "\n",
        "PMID: 20171286  \n",
        "脳内の局所的な白質統合性（構造的接続性）と創造力の関係性をDTIで調査\n",
        "\n",
        "PMID: 21886781  \n",
        "ワーキングメモリのトレーニングが脳内の灰白質量に与える影響をVBMで調査\n",
        "\n",
        "PMID: 14741309  \n",
        "簡単な暗算で活性化される脳部位を子供と大人で比較"
      ]
    },
    {
      "cell_type": "markdown",
      "metadata": {
        "id": "_Eolmlq1EIT2",
        "colab_type": "text"
      },
      "source": [
        "川島教授が関与する論文で印象的なのは、fMRIなどの脳イメージングが必ず出現する点であった。想像力テストや計算問題などの課題を被験者に与えて、その時の脳シグナルをfMRI、VBM、DTIで検出している。2報目だけは川島教授が筆頭・最終著者ではなく、この論文だけBMI（肥満度）を対象としているなど毛色が他とは異なるが、ここでも灰白質量を測定するためにVBMが使われているため、おそらく脳イメージングの所だけ部分的に関与したのだと予想される。  \n",
        "ただし、被引用数が多い論文は比較的古いものが多いため、最近の研究室事情を反映していない可能性がある。被引用数でフィルタリングするだけでなく、直近の論文も併せて読むことで、より正確な研究内容を把握できるのではないかと考えられる。"
      ]
    },
    {
      "cell_type": "markdown",
      "metadata": {
        "id": "5QkvJRPQHI_4",
        "colab_type": "text"
      },
      "source": [
        "以上。\n",
        "2020年3月28日　えもり  \n",
        "2020年4月1日　「目的」を追記"
      ]
    }
  ]
}